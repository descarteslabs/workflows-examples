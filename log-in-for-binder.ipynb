{
 "cells": [
  {
   "cell_type": "markdown",
   "metadata": {},
   "source": [
    "## To log in on Binder: run all the cells in this notebook with Shift-Enter!"
   ]
  },
  {
   "cell_type": "code",
   "execution_count": null,
   "metadata": {},
   "outputs": [],
   "source": [
    "import IPython.display as dsp\n",
    "import descarteslabs as dl"
   ]
  },
  {
   "cell_type": "code",
   "execution_count": null,
   "metadata": {},
   "outputs": [],
   "source": [
    "dsp.IFrame(\"https://iam.descarteslabs.com/auth/credentials\", width=\"100%\", height=\"400px\")"
   ]
  },
  {
   "cell_type": "code",
   "execution_count": null,
   "metadata": {},
   "outputs": [],
   "source": [
    "TOKEN = input(\"Paste token here: \")\n",
    "\n",
    "# save token so other notebooks can access it\n",
    "import json\n",
    "import os\n",
    "\n",
    "token_info_path = dl.client.auth.auth.DEFAULT_TOKEN_INFO_PATH\n",
    "token_info_dir = os.path.dirname(token_info_path)\n",
    "\n",
    "dl.client.auth.auth.makedirs_if_not_exists(token_info_dir)\n",
    "with open(token_info_path, \"w\") as f:\n",
    "    json.dump({\"JWT_TOKEN\": TOKEN}, f)\n",
    "\n",
    "print(\"Logged in as {}\".format(dl.Auth().payload['name']))"
   ]
  },
  {
   "cell_type": "markdown",
   "metadata": {},
   "source": [
    "**Authenticate this Binder with your Descartes Labs account by pasting the JSON Web Token into the box above ^^**\n",
    "\n",
    "(if you don't see an text input box or embedded JSON Web Token page, run the all the above cells with Shift-Enter)\n",
   ]
  },
  {
   "cell_type": "markdown",
   "metadata": {},
   "source": [
    "--------\n",
    "\n",
    "Now you can run any of the other examples here.\n",
    "\n",
    "This Binder will shut down after a few minutes of inactivity, cleanly removing your credentials when it does."
   ]
  }
 ],
 "metadata": {
  "kernelspec": {
   "display_name": "Python 2",
   "language": "python",
   "name": "python2"
  },
  "language_info": {
   "codemirror_mode": {
    "name": "ipython",
    "version": 2
   },
   "file_extension": ".py",
   "mimetype": "text/x-python",
   "name": "python",
   "nbconvert_exporter": "python",
   "pygments_lexer": "ipython2",
   "version": "2.7.15"
  }
 },
 "nbformat": 4,
 "nbformat_minor": 2
}
