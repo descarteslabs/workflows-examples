{
 "cells": [
  {
   "cell_type": "markdown",
   "metadata": {},
   "source": [
    "### Grouping by cloudiness\n",
    "\n",
    "Let's group Sentinel-2 images by how cloudy they are, and composite them into low-cloud and high-cloud composites. We'll look at a spot renowned for its clouds: Seattle.\n",
    "\n",
    "`groupby` works on more than just dates; you can group by any metadata value on an Image.\n",
    "\n",
    "You could even use it to group by `cloud_fraction`.\n",
    "Though deriving any possible practical use of this is left as an exercise to the reader, it's still kind of fun to look at."
   ]
  },
  {
   "cell_type": "code",
   "execution_count": 1,
   "metadata": {},
   "outputs": [
    {
     "name": "stderr",
     "output_type": "stream",
     "text": [
      "/Users/gabejoseph/.local/share/virtualenvs/workflows-examples-ZimnatIE/lib/python3.6/site-packages/pkg_resources/__init__.py:1151: DeprecationWarning: Use of .. or absolute path in a resource path is not allowed and will raise exceptions in a future release.\n",
      "  self, resource_name\n",
      "/Users/gabejoseph/.local/share/virtualenvs/workflows-examples-ZimnatIE/lib/python3.6/site-packages/pkg_resources/__init__.py:1151: DeprecationWarning: Use of .. or absolute path in a resource path is not allowed and will raise exceptions in a future release.\n",
      "  self, resource_name\n",
      "/Users/gabejoseph/.local/share/virtualenvs/workflows-examples-ZimnatIE/lib/python3.6/site-packages/ipyleaflet/leaflet.py:316: DeprecationWarning: metadata {'dtype': None} was set from the constructor. With traitlets 4.1, metadata should be set using the .tag() method, e.g., Int().tag(key1='value1', key2='value2')\n",
      "  data = Dataset().tag(dtype=None, sync=True, to_json=ds_x_to_json)\n"
     ]
    }
   ],
   "source": [
    "import descarteslabs.workflows as wf"
   ]
  },
  {
   "cell_type": "code",
   "execution_count": 2,
   "metadata": {},
   "outputs": [],
   "source": [
    "wf.map.center = [47.6857302113159, -122.19406127929689]\n",
    "wf.map.zoom = 9"
   ]
  },
  {
   "cell_type": "code",
   "execution_count": 3,
   "metadata": {},
   "outputs": [
    {
     "data": {
      "application/vnd.jupyter.widget-view+json": {
       "model_id": "1d3dd616a750451eba89551d8028ac55",
       "version_major": 2,
       "version_minor": 0
      },
      "text/plain": [
       "\n",
       "`ipyleaflet` and/or `ipywidgets` Jupyter extensions are not installed! (or you're not in a Jupyter notebook.)\n",
       "To install for JupyterLab, run this in a cell:\n",
       "    !jupyter labextension install jupyter-leaflet @jupyter-widgets/jupyterlab-manager\n",
       "To install for plain Jupyter Notebook, run this in a cell:\n",
       "    !jupyter nbextension enable --py --sys-prefix ipyleaflet\n",
       "Then, restart Jupyter and re-run this notebook.\n"
      ]
     },
     "metadata": {},
     "output_type": "display_data"
    }
   ],
   "source": [
    "wf.map"
   ]
  },
  {
   "cell_type": "code",
   "execution_count": 4,
   "metadata": {},
   "outputs": [],
   "source": [
    "s2 = wf.ImageCollection.from_id('sentinel-2:L1C', start_datetime=\"2019-01-01\")"
   ]
  },
  {
   "cell_type": "code",
   "execution_count": 5,
   "metadata": {},
   "outputs": [],
   "source": [
    "grouped = s2.groupby(lambda img: img.properties['cloud_fraction'] // 0.25)\n",
    "# cloud_fraction is 0-1, so this should give us up to 5 groups"
   ]
  },
  {
   "cell_type": "code",
   "execution_count": 6,
   "metadata": {},
   "outputs": [],
   "source": [
    "low = grouped.groups[0].median(axis=\"images\")\n",
    "high = grouped.groups[3].mean(axis=\"images\")\n",
    "# notice we use `median` on clear images, `mean` on cloudy"
   ]
  },
  {
   "cell_type": "code",
   "execution_count": 7,
   "metadata": {},
   "outputs": [],
   "source": [
    "low.pick_bands('red green blue').visualize('low', scales=[[0, 0.4], [0, 0.4], [0, 0.4]])\n",
    "high.pick_bands('red green blue').visualize('high', scales=[[0, 1], [0, 1], [0, 1]])"
   ]
  },
  {
   "cell_type": "markdown",
   "metadata": {},
   "source": [
    "-------\n",
    "\n",
    "How many images fall into each group?"
   ]
  },
  {
   "cell_type": "code",
   "execution_count": 8,
   "metadata": {},
   "outputs": [],
   "source": [
    "group_lengths = grouped.groups.items().map(\n",
    "    lambda group_imgs: group_imgs[1].length()\n",
    ")"
   ]
  },
  {
   "cell_type": "code",
   "execution_count": 9,
   "metadata": {},
   "outputs": [
    {
     "name": "stdout",
     "output_type": "stream",
     "text": [
      "\n",
      "Job ID: 6fd827202ad2df23a43f16bd861d573368433b15534730c3\n",
      "[######] | Steps: 0/0 | Stage: DONE | Status: SUCCESS                         "
     ]
    },
    {
     "data": {
      "text/plain": [
       "[403, 192, 182, 530, 47]"
      ]
     },
     "execution_count": 9,
     "metadata": {},
     "output_type": "execute_result"
    }
   ],
   "source": [
    "group_lengths.compute(wf.map.geocontext())"
   ]
  },
  {
   "cell_type": "markdown",
   "metadata": {},
   "source": [
    "What fraction of images have `cloud_fraction` <= 0.25?"
   ]
  },
  {
   "cell_type": "code",
   "execution_count": 11,
   "metadata": {},
   "outputs": [],
   "source": [
    "clear_days_fraction = group_lengths[0] / (group_lengths.reduce(lambda accum, x: accum + x))"
   ]
  },
  {
   "cell_type": "code",
   "execution_count": 12,
   "metadata": {},
   "outputs": [
    {
     "name": "stdout",
     "output_type": "stream",
     "text": [
      "\n",
      "Job ID: e6107ba04c4dd42f525eeac9e8b32b6808aee7c320ea8a60\n",
      "[######] | Steps: 0/0 | Stage: DONE | Status: SUCCESS                         "
     ]
    },
    {
     "data": {
      "text/plain": [
       "0.29763663220088626"
      ]
     },
     "execution_count": 12,
     "metadata": {},
     "output_type": "execute_result"
    }
   ],
   "source": [
    "clear_days_fraction.compute(wf.map.geocontext())"
   ]
  },
  {
   "cell_type": "markdown",
   "metadata": {},
   "source": [
    "Indeed, it's cloudy a lot in Seattle."
   ]
  }
 ],
 "metadata": {
  "kernelspec": {
   "display_name": "Python 3",
   "language": "python",
   "name": "python3"
  },
  "language_info": {
   "codemirror_mode": {
    "name": "ipython",
    "version": 3
   },
   "file_extension": ".py",
   "mimetype": "text/x-python",
   "name": "python",
   "nbconvert_exporter": "python",
   "pygments_lexer": "ipython3",
   "version": "3.6.8"
  }
 },
 "nbformat": 4,
 "nbformat_minor": 4
}
