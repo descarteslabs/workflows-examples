{
 "cells": [
  {
   "cell_type": "code",
   "execution_count": 1,
   "metadata": {},
   "outputs": [],
   "source": [
    "import logging\n",
    "logger = logging.getLogger()\n",
    "logger.setLevel(logging.INFO)\n",
    "logging.captureWarnings(True)\n",
    "\n",
    "import descarteslabs as dl\n",
    "import descarteslabs.workflows as wf"
   ]
  },
  {
   "cell_type": "code",
   "execution_count": 2,
   "metadata": {},
   "outputs": [],
   "source": [
    "s2 = wf.ImageCollection.from_id('sentinel-2:L1C', start_datetime=\"2018-01-01\", end_datetime=\"2018-04-01\")"
   ]
  },
  {
   "cell_type": "code",
   "execution_count": 3,
   "metadata": {},
   "outputs": [
    {
     "data": {
      "application/vnd.jupyter.widget-view+json": {
       "model_id": "5315262b7ec54cc9b8af0a3f17f569dc",
       "version_major": 2,
       "version_minor": 0
      },
      "text/plain": [
       "\n",
       "`ipyleaflet` and/or `ipywidgets` Jupyter extensions are not installed! (or you're not in a Jupyter notebook.)\n",
       "To install for JupyterLab, run this in a cell:\n",
       "    !jupyter labextension install jupyter-leaflet @jupyter-widgets/jupyterlab-manager\n",
       "To install for plain Jupyter Notebook, run this in a cell:\n",
       "    !jupyter nbextension enable --py --sys-prefix ipyleaflet\n",
       "Then, restart Jupyter and re-run this notebook.\n"
      ]
     },
     "metadata": {},
     "output_type": "display_data"
    }
   ],
   "source": [
    "wf.map.zoom = 8\n",
    "wf.map"
   ]
  },
  {
   "cell_type": "code",
   "execution_count": 4,
   "metadata": {},
   "outputs": [],
   "source": [
    "mean = s2.mean(axis=\"images\")"
   ]
  },
  {
   "cell_type": "code",
   "execution_count": 5,
   "metadata": {},
   "outputs": [],
   "source": [
    "(\n",
    "    mean\n",
    "    .pick_bands(\"red green blue\")\n",
    "    .visualize(\"Sentinel-2 mean\", scales=[[0, 0.5], [0, 0.5], [0, 0.5]])\n",
    ")"
   ]
  },
  {
   "cell_type": "code",
   "execution_count": 6,
   "metadata": {},
   "outputs": [],
   "source": [
    "clouds, cirrus = s2.unpack_bands(\"cloud-mask cirrus-cloud-mask\")\n",
    "\n",
    "cloud_mask = (clouds > 0) | (cirrus > 0)\n",
    "\n",
    "# this is often more efficient than a median composite to remove clouds,\n",
    "# but produces ok results for a visual basemap\n",
    "cloud_masked = s2.mask(cloud_mask)\n",
    "low_clouds = cloud_masked.filter(lambda img: img.properties['cloud_fraction'] < 0.3)"
   ]
  },
  {
   "cell_type": "code",
   "execution_count": 8,
   "metadata": {},
   "outputs": [],
   "source": [
    "(\n",
    "    low_clouds\n",
    "    .mean(axis=\"images\")\n",
    "    .pick_bands(\"red green blue\")\n",
    "    .visualize(\"Cloud-masked mean\", scales=[[0, 0.5], [0, 0.5], [0, 0.5]])\n",
    ")"
   ]
  },
  {
   "cell_type": "code",
   "execution_count": null,
   "metadata": {},
   "outputs": [],
   "source": []
  }
 ],
 "metadata": {
  "kernelspec": {
   "display_name": "Python 3",
   "language": "python",
   "name": "python3"
  },
  "language_info": {
   "codemirror_mode": {
    "name": "ipython",
    "version": 3
   },
   "file_extension": ".py",
   "mimetype": "text/x-python",
   "name": "python",
   "nbconvert_exporter": "python",
   "pygments_lexer": "ipython3",
   "version": "3.6.8"
  }
 },
 "nbformat": 4,
 "nbformat_minor": 4
}
