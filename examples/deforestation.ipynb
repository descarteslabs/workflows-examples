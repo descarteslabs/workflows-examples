{
 "cells": [
  {
   "cell_type": "markdown",
   "metadata": {},
   "source": [
    "Deforestation in Brazil\n",
    "-----------------------\n",
    "Visually comparing early 1990s to 2018-19.\n",
    "\n",
    "We make a 2-year minimum composite of Landsat 5 ('90s) and of Landsat 8 (now).\n",
    "\n",
    "Taking the minimum value of each pixel effectively removes clouds in this very cloudy region.\n",
    "\n",
    "This lets us see significant change in land cover.\n",
    "\n",
    "20 years ago on the left; now on the right."
   ]
  },
  {
   "cell_type": "code",
   "execution_count": 1,
   "metadata": {},
   "outputs": [],
   "source": [
    "import logging\n",
    "logger = logging.getLogger()\n",
    "logger.setLevel(logging.INFO)\n",
    "logging.captureWarnings(True)\n",
    "\n",
    "from descarteslabs import workflows as wf\n",
    "from ipyleaflet import FullScreenControl, SplitMapControl"
   ]
  },
  {
   "cell_type": "code",
   "execution_count": 6,
   "metadata": {},
   "outputs": [
    {
     "data": {
      "application/vnd.jupyter.widget-view+json": {
       "model_id": "921b1503063143209775fceb74267784",
       "version_major": 2,
       "version_minor": 0
      },
      "text/plain": [
       "\n",
       "`ipyleaflet` and/or `ipywidgets` Jupyter extensions are not installed! (or you're not in a Jupyter notebook.)\n",
       "To install for JupyterLab, run this in a cell:\n",
       "    !jupyter labextension install jupyter-leaflet @jupyter-widgets/jupyterlab-manager\n",
       "To install for plain Jupyter Notebook, run this in a cell:\n",
       "    !jupyter nbextension enable --py --sys-prefix ipyleaflet\n",
       "Then, restart Jupyter and re-run this notebook.\n"
      ]
     },
     "metadata": {},
     "output_type": "display_data"
    }
   ],
   "source": [
    "wf.map.center = [-4.4429, -55.8163]\n",
    "wf.map.zoom = 9\n",
    "wf.map.add_control(FullScreenControl())\n",
    "wf.map"
   ]
  },
  {
   "cell_type": "code",
   "execution_count": 3,
   "metadata": {},
   "outputs": [],
   "source": [
    "l5 = wf.ImageCollection.from_id(\n",
    "    'landsat:LT05:PRE:TOAR',\n",
    "    start_datetime=\"1990-01-01\",\n",
    "    end_datetime=\"1992-01-01\"\n",
    ")\n",
    "\n",
    "then = l5.pick_bands('red green blue').min()\n",
    "\n",
    "then.visualize(\"1990-92\", scales=[[0, 0.2], [0, 0.2], [0, 0.2]])"
   ]
  },
  {
   "cell_type": "code",
   "execution_count": 4,
   "metadata": {},
   "outputs": [],
   "source": [
    "l8 = wf.ImageCollection.from_id(\n",
    "    'landsat:LC08:01:T1:TOAR',\n",
    "    start_datetime=\"2018-01-01\",\n",
    "    end_datetime=\"2020-01-01\"\n",
    ")\n",
    "\n",
    "now = l8.pick_bands('red green blue').min()\n",
    "\n",
    "now.visualize(\"2018-19\", scales=[[0, 0.3], [0, 0.3], [0, 0.3]])"
   ]
  },
  {
   "cell_type": "code",
   "execution_count": 5,
   "metadata": {},
   "outputs": [],
   "source": [
    "split = SplitMapControl(left_layer=wf.map.layers[1], right_layer=wf.map.layers[2])\n",
    "\n",
    "wf.map.add_control(split)"
   ]
  }
 ],
 "metadata": {
  "kernelspec": {
   "display_name": "Python 3",
   "language": "python",
   "name": "python3"
  },
  "language_info": {
   "codemirror_mode": {
    "name": "ipython",
    "version": 3
   },
   "file_extension": ".py",
   "mimetype": "text/x-python",
   "name": "python",
   "nbconvert_exporter": "python",
   "pygments_lexer": "ipython3",
   "version": "3.6.8"
  }
 },
 "nbformat": 4,
 "nbformat_minor": 4
}
