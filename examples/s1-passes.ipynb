{
 "cells": [
  {
   "cell_type": "markdown",
   "metadata": {},
   "source": [
    "### Sentinel-1 Composites, grouped by pass direction\n",
    "\n",
    "[Sentinel-1](https://catalog.descarteslabs.com/?/product/sentinel-1:GRD) captures data on both ascending and descending orbital passes.\n",
    "\n",
    "Using `ImageCollection.groupby`, we can visualize the difference between these pass directions."
   ]
  },
  {
   "cell_type": "code",
   "execution_count": null,
   "metadata": {},
   "outputs": [],
   "source": [
    "import descarteslabs.workflows as wf"
   ]
  },
  {
   "cell_type": "code",
   "execution_count": 16,
   "metadata": {},
   "outputs": [
    {
     "data": {
      "text/plain": [
       "[39.94620076261831, -115.97644329071046]"
      ]
     },
     "execution_count": 16,
     "metadata": {},
     "output_type": "execute_result"
    }
   ],
   "source": [
    "wf.map.center = [39.94620076261831, -115.97644329071046]\n",
    "wf.map.zoom = 7"
   ]
  },
  {
   "cell_type": "code",
   "execution_count": 2,
   "metadata": {
    "collapsed": true,
    "jupyter": {
     "outputs_hidden": true
    }
   },
   "outputs": [
    {
     "data": {
      "application/vnd.jupyter.widget-view+json": {
       "model_id": "5d6e32a3e3b5422b9959476dc1a857c5",
       "version_major": 2,
       "version_minor": 0
      },
      "text/plain": [
       "\n",
       "`ipyleaflet` and/or `ipywidgets` Jupyter extensions are not installed! (or you're not in a Jupyter notebook.)\n",
       "To install for JupyterLab, run this in a cell:\n",
       "    !jupyter labextension install jupyter-leaflet @jupyter-widgets/jupyterlab-manager\n",
       "To install for plain Jupyter Notebook, run this in a cell:\n",
       "    !jupyter nbextension enable --py --sys-prefix ipyleaflet\n",
       "Then, restart Jupyter and re-run this notebook.\n"
      ]
     },
     "metadata": {},
     "output_type": "display_data"
    }
   ],
   "source": [
    "wf.map"
   ]
  },
  {
   "cell_type": "code",
   "execution_count": 6,
   "metadata": {},
   "outputs": [],
   "source": [
    "s1 = wf.ImageCollection.from_id('sentinel-1:GRD', start_datetime='2019-01-01', end_datetime=\"2019-08-01\")"
   ]
  },
  {
   "cell_type": "code",
   "execution_count": 7,
   "metadata": {},
   "outputs": [],
   "source": [
    "grouped = s1.groupby(lambda img: img.properties['pass'])\n",
    "# creates an ImageCollectionGroupby object,\n",
    "# which we can use to access individual groups, or aggregate them all"
   ]
  },
  {
   "cell_type": "code",
   "execution_count": 9,
   "metadata": {},
   "outputs": [
    {
     "name": "stdout",
     "output_type": "stream",
     "text": [
      "[######] | Steps: 0/0 | Stage: DONE | Status: SUCCESS                         "
     ]
    },
    {
     "data": {
      "text/plain": [
       "['ASCENDING', 'DESCENDING']"
      ]
     },
     "execution_count": 9,
     "metadata": {},
     "output_type": "execute_result"
    }
   ],
   "source": [
    "# let's see the possible values for `pass` are:\n",
    "grouped.groups.keys().compute(wf.map.geocontext())"
   ]
  },
  {
   "cell_type": "code",
   "execution_count": 10,
   "metadata": {},
   "outputs": [],
   "source": [
    "asc = grouped.groups['ASCENDING'].mean(axis=\"images\")\n",
    "desc = grouped.groups['DESCENDING'].mean(axis=\"images\")"
   ]
  },
  {
   "cell_type": "code",
   "execution_count": 11,
   "metadata": {},
   "outputs": [],
   "source": [
    "asc.concat_bands(asc.pick_bands('vv')).visualize('asc', scales=[[0, .5], [0, .3], [0, .5]])\n",
    "desc.concat_bands(desc.pick_bands('vv')).visualize('desc', scales=[[0, .5], [0, .3], [0, .5]])"
   ]
  },
  {
   "cell_type": "code",
   "execution_count": 12,
   "metadata": {},
   "outputs": [],
   "source": [
    "pass_ratio = asc / desc"
   ]
  },
  {
   "cell_type": "code",
   "execution_count": 13,
   "metadata": {},
   "outputs": [],
   "source": [
    "pass_ratio.concat_bands(pass_ratio.pick_bands('vv')).visualize('pass ratio', scales=[[0, 2], [0, 2], [0, 2]])"
   ]
  }
 ],
 "metadata": {
  "kernelspec": {
   "display_name": "Python 3",
   "language": "python",
   "name": "python3"
  },
  "language_info": {
   "codemirror_mode": {
    "name": "ipython",
    "version": 3
   },
   "file_extension": ".py",
   "mimetype": "text/x-python",
   "name": "python",
   "nbconvert_exporter": "python",
   "pygments_lexer": "ipython3",
   "version": "3.7.3"
  }
 },
 "nbformat": 4,
 "nbformat_minor": 4
}
