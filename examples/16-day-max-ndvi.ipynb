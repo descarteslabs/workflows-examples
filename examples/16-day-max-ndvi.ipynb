{
 "cells": [
  {
   "cell_type": "markdown",
   "metadata": {},
   "source": [
    "## MODIS rolling 16-day max NDVI composite\n",
    "\n",
    "`ImageCollection.map_window` lets you slide a \"window\" along an ImageCollection, image by image. Here, we use it to composite the previous 16 days of MODIS imagery, an effective way of correcting for clouds when looking at NDVI."
   ]
  },
  {
   "cell_type": "code",
   "execution_count": null,
   "metadata": {},
   "outputs": [],
   "source": [
    "import descarteslabs.workflows as wf"
   ]
  },
  {
   "cell_type": "code",
   "execution_count": 14,
   "metadata": {},
   "outputs": [
    {
     "data": {
      "text/plain": [
       "[36.50963615733049, -105.89996337890626]"
      ]
     },
     "execution_count": 14,
     "metadata": {},
     "output_type": "execute_result"
    }
   ],
   "source": [
    "wf.map.center = [36.50963615733049, -105.89996337890626]\n",
    "wf.map.zoom = 8"
   ]
  },
  {
   "cell_type": "code",
   "execution_count": 13,
   "metadata": {
    "collapsed": true,
    "jupyter": {
     "outputs_hidden": true
    }
   },
   "outputs": [
    {
     "data": {
      "application/vnd.jupyter.widget-view+json": {
       "model_id": "8db72fd51055487c9b0ef6fee9190f73",
       "version_major": 2,
       "version_minor": 0
      },
      "text/plain": [
       "\n",
       "`ipyleaflet` and/or `ipywidgets` Jupyter extensions are not installed! (or you're not in a Jupyter notebook.)\n",
       "To install for JupyterLab, run this in a cell:\n",
       "    !jupyter labextension install jupyter-leaflet @jupyter-widgets/jupyterlab-manager\n",
       "To install for plain Jupyter Notebook, run this in a cell:\n",
       "    !jupyter nbextension enable --py --sys-prefix ipyleaflet\n",
       "Then, restart Jupyter and re-run this notebook.\n"
      ]
     },
     "metadata": {},
     "output_type": "display_data"
    }
   ],
   "source": [
    "wf.map"
   ]
  },
  {
   "cell_type": "code",
   "execution_count": 3,
   "metadata": {},
   "outputs": [],
   "source": [
    "modis = wf.ImageCollection.from_id('modis:09:v2', start_datetime=\"2019-01-01\", end_datetime=\"2019-08-01\")"
   ]
  },
  {
   "cell_type": "code",
   "execution_count": 4,
   "metadata": {},
   "outputs": [],
   "source": [
    "ndvi = wf.normalized_difference(modis.pick_bands('nir'), modis.pick_bands('red'))"
   ]
  },
  {
   "cell_type": "code",
   "execution_count": 10,
   "metadata": {},
   "outputs": [],
   "source": [
    "ndvi_16 = (\n",
    "    ndvi\n",
    "    .groupby(lambda img: img.properties['date'] // wf.Timedelta(days=1))\n",
    "        .max(axis=\"images\")\n",
    "    # ^ first, flatten multiple images from the same day (at scene boundaries) into 1,\n",
    "    # so we're always getting exactly 16 days\n",
    "    .map_window(\n",
    "        lambda back, img, fwd: back.max(axis=\"images\"),\n",
    "        back=16\n",
    "    )\n",
    "    # ^ max-composite the previous 16 days\n",
    ")\n",
    "\n",
    "# ndvi_16 is an ImageCollection; each Image is one of our 16-day composites"
   ]
  },
  {
   "cell_type": "code",
   "execution_count": 8,
   "metadata": {},
   "outputs": [],
   "source": [
    "ndvi_16[0].visualize('jan NDVI', scales=[[0, 1]], colormap=\"viridis\")\n",
    "# jan 1 - 16 composite"
   ]
  },
  {
   "cell_type": "code",
   "execution_count": 9,
   "metadata": {},
   "outputs": [],
   "source": [
    "ndvi_16[-1].visualize('july NDVI', scales=[[0, 1]], colormap=\"viridis\")\n",
    "# july 16 - aug 1 composite"
   ]
  }
 ],
 "metadata": {
  "kernelspec": {
   "display_name": "Python 3",
   "language": "python",
   "name": "python3"
  },
  "language_info": {
   "codemirror_mode": {
    "name": "ipython",
    "version": 3
   },
   "file_extension": ".py",
   "mimetype": "text/x-python",
   "name": "python",
   "nbconvert_exporter": "python",
   "pygments_lexer": "ipython3",
   "version": "3.7.3"
  }
 },
 "nbformat": 4,
 "nbformat_minor": 4
}
