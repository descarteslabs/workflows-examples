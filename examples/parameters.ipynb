{
 "cells": [
  {
   "cell_type": "markdown",
   "metadata": {},
   "source": [
    "## Using interactive parameters with maps\n",
    "\n",
    "Using `wf.parameter`, you can add \"placeholders\" in your code, which you can adjust interactively when you `visualize` an Imge on the map.\n",
    "\n",
    "For example, you could add a parameter for a threshold value, or a date range, then control those using a widget."
   ]
  },
  {
   "cell_type": "code",
   "execution_count": 18,
   "metadata": {},
   "outputs": [],
   "source": [
    "import descarteslabs.workflows as wf\n",
    "import ipywidgets\n",
    "import datetime"
   ]
  },
  {
   "cell_type": "code",
   "execution_count": 4,
   "metadata": {},
   "outputs": [
    {
     "data": {
      "application/vnd.jupyter.widget-view+json": {
       "model_id": "",
       "version_major": 2,
       "version_minor": 0
      },
      "text/plain": [
       "\n",
       "`ipyleaflet` and/or `ipywidgets` Jupyter extensions are not installed! (or you're not in a Jupyter notebook.)\n",
       "To install for JupyterLab, run this in a cell:\n",
       "    !jupyter labextension install jupyter-leaflet @jupyter-widgets/jupyterlab-manager\n",
       "To install for plain Jupyter Notebook, run this in a cell:\n",
       "    !jupyter nbextension enable --py --sys-prefix ipyleaflet\n",
       "Then, restart Jupyter and re-run this notebook.\n"
      ]
     },
     "metadata": {},
     "output_type": "display_data"
    }
   ],
   "source": [
    "wf.map.zoom = 9\n",
    "wf.map"
   ]
  },
  {
   "cell_type": "markdown",
   "metadata": {},
   "source": [
    "We're making a mean composite of the VV band in Sentinel-1, then masking out values below a certain threshold, which we pick interactively."
   ]
  },
  {
   "cell_type": "code",
   "execution_count": 23,
   "metadata": {},
   "outputs": [
    {
     "data": {
      "application/vnd.jupyter.widget-view+json": {
       "model_id": "fe343f139494475abfe6d25b48278d3b",
       "version_major": 2,
       "version_minor": 0
      },
      "text/plain": [
       "VBox(children=(HTML(value='<b>Masked VV</b>'), HBox(children=(VBox(children=(Label(value='threshold'),)), VBox…"
      ]
     },
     "metadata": {},
     "output_type": "display_data"
    }
   ],
   "source": [
    "s1_vv = (\n",
    "    wf.ImageCollection\n",
    "        .from_id(\"sentinel-1:GRD\", start_datetime=\"2019-08-01\", end_datetime=\"2019-10-01\")\n",
    "        .mean(axis=\"images\")\n",
    "        .pick_bands(\"vv\")\n",
    ")\n",
    "\n",
    "threshold_param = wf.parameter('threshold', wf.Float)\n",
    "# ^ make a parameter named 'threshold' of type Float\n",
    "\n",
    "masked_vv = s1_vv.mask(s1_vv < threshold_param)\n",
    "\n",
    "masked_vv.visualize(\n",
    "    \"Masked VV\",\n",
    "    colormap=\"viridis\",\n",
    "    scales=[0, 0.5],\n",
    "    threshold=0.04\n",
    "    # ^ pass in an intial value for the \"threshold\" parameter.\n",
    "    # Any extra keyword arguments to `visualze` are interpreted as parameters.\n",
    "    # The names must match up with parameter names you've created with `wf.parameter`.\n",
    ")"
   ]
  },
  {
   "cell_type": "markdown",
   "metadata": {},
   "source": [
    "Changing the `threshold` input above will update the map.\n",
    "\n",
    "Since you passed in `0.5` for `threshold`, Workflows inferred that the parameter was a float,\n",
    "and by default displays a text box where you can enter floats.\n",
    "\n",
    "But you may not just want a text box. For more customization, you can also pass in `ipywidgets` Widgets as parameters—they'll be used as the controls.\n",
    "\n",
    "-------\n",
    "\n",
    "Here, we'll do a similar computation, but add parameters to pick the start date, time window duration, and pass direction."
   ]
  },
  {
   "cell_type": "code",
   "execution_count": 24,
   "metadata": {},
   "outputs": [],
   "source": [
    "start = wf.parameter(\"start\", wf.Datetime)\n",
    "end = start + wf.Timedelta(weeks=wf.parameter(\"weeks\", wf.Int))\n",
    "\n",
    "s1 = wf.ImageCollection.from_id(\"sentinel-1:GRD\", start_datetime=start, end_datetime=end)\n",
    "\n",
    "pass_direction = wf.parameter(\"pass_dir\", wf.Str)\n",
    "\n",
    "s1_mean = s1.filter(lambda img: img.properties['pass'] == pass_direction).mean(axis=\"images\")\n",
    "vv = s1_mean.pick_bands(\"vv\")\n",
    "\n",
    "masked_s1 = vv.mask(vv < wf.parameter('threshold', wf.Float))"
   ]
  },
  {
   "cell_type": "code",
   "execution_count": 25,
   "metadata": {},
   "outputs": [
    {
     "data": {
      "application/vnd.jupyter.widget-view+json": {
       "model_id": "fe343f139494475abfe6d25b48278d3b",
       "version_major": 2,
       "version_minor": 0
      },
      "text/plain": [
       "VBox(children=(HTML(value='<b>Masked VV</b>'), HBox(children=(VBox(children=(Label(value='pass_dir'), Label(va…"
      ]
     },
     "metadata": {},
     "output_type": "display_data"
    }
   ],
   "source": [
    "lyr = masked_s1.visualize(\n",
    "    \"Masked VV\",\n",
    "    colormap=\"magma\",\n",
    "    scales=[0, 0.5],\n",
    "    \n",
    "    start=ipywidgets.DatePicker(value=datetime.date(2019, 8, 1)),\n",
    "    weeks=ipywidgets.IntSlider(min=0, max=12, value=4),\n",
    "    pass_dir=ipywidgets.Dropdown(\n",
    "        options=[\"ASCENDING\", \"DESCENDING\"]\n",
    "    ),\n",
    "    threshold=ipywidgets.FloatSlider(\n",
    "        min=0, max=1, step=0.01\n",
    "    ),\n",
    ")\n",
    "lyr"
   ]
  },
  {
   "cell_type": "markdown",
   "metadata": {},
   "source": [
    "You can also adjust parameters on a layer programatically by assigning to `lyr.parameters.<param-name>`:"
   ]
  },
  {
   "cell_type": "code",
   "execution_count": 26,
   "metadata": {},
   "outputs": [],
   "source": [
    "lyr.parameters.threshold = 0.06\n",
    "lyr.parameters.weeks = 3\n",
    "lyr.parameters.pass_dir = \"DESCENDING\""
   ]
  }
 ],
 "metadata": {
  "kernelspec": {
   "display_name": "Python 3",
   "language": "python",
   "name": "python3"
  },
  "language_info": {
   "codemirror_mode": {
    "name": "ipython",
    "version": 3
   },
   "file_extension": ".py",
   "mimetype": "text/x-python",
   "name": "python",
   "nbconvert_exporter": "python",
   "pygments_lexer": "ipython3",
   "version": "3.6.8"
  }
 },
 "nbformat": 4,
 "nbformat_minor": 4
}
