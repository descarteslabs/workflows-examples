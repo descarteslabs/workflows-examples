{
 "cells": [
  {
   "cell_type": "code",
   "execution_count": 3,
   "metadata": {},
   "outputs": [],
   "source": [
    "import descarteslabs as dl\n",
    "import descarteslabs.workflows as wf\n",
    "\n",
    "import matplotlib.pyplot as plt"
   ]
  },
  {
   "cell_type": "markdown",
   "metadata": {},
   "source": [
    "## Proxy Objects\n",
    "\n",
    "The boring fundamentals you should know"
   ]
  },
  {
   "cell_type": "code",
   "execution_count": 4,
   "metadata": {},
   "outputs": [
    {
     "data": {
      "text/plain": [
       "<descarteslabs.workflows.types.primitives.number.Int at 0x10e1a3750>"
      ]
     },
     "execution_count": 4,
     "metadata": {},
     "output_type": "execute_result"
    }
   ],
   "source": [
    "one = wf.Int(1)  # this is a lazy proxy object.\n",
    "two = one + 1\n",
    "\n",
    "# 1 + 1 hasn't been computed yet:\n",
    "# `two` holds a dependency graph representing the operation `1 + 1`\n",
    "two"
   ]
  },
  {
   "cell_type": "code",
   "execution_count": 5,
   "metadata": {},
   "outputs": [
    {
     "name": "stdout",
     "output_type": "stream",
     "text": [
      "[               ] | Steps: 0/0 | Stage: STAGE_DONE | Status: STATUS_SUCCESS"
     ]
    },
    {
     "data": {
      "text/plain": [
       "2"
      ]
     },
     "execution_count": 5,
     "metadata": {},
     "output_type": "execute_result"
    }
   ],
   "source": [
    "two.compute()  # send that graph to the backend, execute it, wait for the result"
   ]
  },
  {
   "cell_type": "code",
   "execution_count": 6,
   "metadata": {},
   "outputs": [],
   "source": [
    "# use `block=False` to submit a computation asynchronously, returning a Job object\n",
    "job = two.compute(block=False)"
   ]
  },
  {
   "cell_type": "code",
   "execution_count": 7,
   "metadata": {},
   "outputs": [
    {
     "data": {
      "text/plain": [
       "False"
      ]
     },
     "execution_count": 7,
     "metadata": {},
     "output_type": "execute_result"
    }
   ],
   "source": [
    "job.refresh()  # reload the job's status\n",
    "job.done       # is it done?"
   ]
  },
  {
   "cell_type": "code",
   "execution_count": 8,
   "metadata": {},
   "outputs": [
    {
     "name": "stdout",
     "output_type": "stream",
     "text": [
      "[               ] | Steps: 0/0 | Stage: STAGE_DONE | Status: STATUS_SUCCESS"
     ]
    },
    {
     "data": {
      "text/plain": [
       "2"
      ]
     },
     "execution_count": 8,
     "metadata": {},
     "output_type": "execute_result"
    }
   ],
   "source": [
    "job.result()  # wait for and load the result"
   ]
  },
  {
   "cell_type": "markdown",
   "metadata": {},
   "source": [
    "## Image Basics"
   ]
  },
  {
   "cell_type": "code",
   "execution_count": 9,
   "metadata": {},
   "outputs": [],
   "source": [
    "img = wf.Image.from_id(\"13ee3865fe538f2baf9c51f7316c57d25bece097:sinu-cat:sinu-cat\")\n",
    "# An Image is a proxy object holding multiple (ordered) bands of raster data,\n",
    "# plus some metadata.\n",
    "\n",
    "# Images don't have a set spatial extent, CRS, resolution, etc:\n",
    "# that's determined at computation time by the GeoContext you pass in (keep reading!)"
   ]
  },
  {
   "cell_type": "code",
   "execution_count": 10,
   "metadata": {},
   "outputs": [
    {
     "data": {
      "text/plain": [
       "<descarteslabs.workflows.types.geospatial.geometry.Geometry at 0x11feaf350>"
      ]
     },
     "execution_count": 10,
     "metadata": {},
     "output_type": "execute_result"
    }
   ],
   "source": [
    "img.geometry"
   ]
  },
  {
   "cell_type": "code",
   "execution_count": 11,
   "metadata": {},
   "outputs": [
    {
     "data": {
      "text/plain": [
       "<descarteslabs.workflows.types.containers.known_dict.KnownDict[{'date': Datetime, 'crs': Str, 'product': Str, 'geotrans': Tuple[Float, Float, Float, Float, Float, Float], 'id': Str}, Str, Any] at 0x11feaf310>"
      ]
     },
     "execution_count": 11,
     "metadata": {},
     "output_type": "execute_result"
    }
   ],
   "source": [
    "img.properties"
   ]
  },
  {
   "cell_type": "code",
   "execution_count": 12,
   "metadata": {},
   "outputs": [
    {
     "data": {
      "text/plain": [
       "<descarteslabs.workflows.types.datetimes.datetime_.Datetime at 0x11feafc10>"
      ]
     },
     "execution_count": 12,
     "metadata": {},
     "output_type": "execute_result"
    }
   ],
   "source": [
    "# Workflows knows in advance what some properties will be, and can return the right type of object.\n",
    "# Here, 'date' is always a Datetime.\n",
    "img.properties['date']"
   ]
  },
  {
   "cell_type": "code",
   "execution_count": 13,
   "metadata": {},
   "outputs": [
    {
     "data": {
      "text/plain": [
       "<descarteslabs.workflows.types.primitives.any_.Any at 0x11feaf510>"
      ]
     },
     "execution_count": 13,
     "metadata": {},
     "output_type": "execute_result"
    }
   ],
   "source": [
    "# Unknown properties are returned as a `wf.Any` object.\n",
    "# `Any` supports any operation, but if the property doesn't exist,\n",
    "# or you try to do something invalid with it, that'll cause an error at compute time.\n",
    "img.properties['foobar']"
   ]
  },
  {
   "cell_type": "code",
   "execution_count": 14,
   "metadata": {},
   "outputs": [
    {
     "data": {
      "text/plain": [
       "<descarteslabs.workflows.types.containers.dict_.Dict[Str, KnownDict[{'data_range': Tuple[Float, Float], 'id': Str, 'unit': Str, 'name': Str}, Str, Any]] at 0x11feaf210>"
      ]
     },
     "execution_count": 14,
     "metadata": {},
     "output_type": "execute_result"
    }
   ],
   "source": [
    "img.bandinfo"
   ]
  },
  {
   "cell_type": "code",
   "execution_count": 15,
   "metadata": {},
   "outputs": [],
   "source": [
    "rgb = img.pick_bands('red green blue')\n",
    "# Image with just the RGB bands (in that order)\n",
    "# previously, `img` contained every band defined for that image."
   ]
  },
  {
   "cell_type": "code",
   "execution_count": 16,
   "metadata": {},
   "outputs": [
    {
     "name": "stdout",
     "output_type": "stream",
     "text": [
      "[###############] | Steps: 17/17 | Stage: STAGE_DONE | Status: STATUS_SUCCESS"
     ]
    }
   ],
   "source": [
    "# computing an Image (or other geospatial object) requires a GeoContext.\n",
    "\n",
    "# Workflows has its own GeoContext proxy type, but you can also use\n",
    "# GeoContext objects (including `DLTile`s) from `dl.scenes` interchangeably.\n",
    "\n",
    "# get the default GeoContext for this image from Scenes\n",
    "_, ctx = dl.scenes.Scene.from_id(\"13ee3865fe538f2baf9c51f7316c57d25bece097:sinu-cat:sinu-cat\")\n",
    "\n",
    "rgb_result = rgb.compute(ctx)"
   ]
  },
  {
   "cell_type": "code",
   "execution_count": 17,
   "metadata": {},
   "outputs": [
    {
     "data": {
      "text/plain": [
       "<descarteslabs.common.workflows.containers.containers.Image at 0x11033e610>"
      ]
     },
     "execution_count": 17,
     "metadata": {},
     "output_type": "execute_result"
    }
   ],
   "source": [
    "# .compute returns a simple container type to hold the NumPy array and metadata dictionaries\n",
    "# from the result.\n",
    "\n",
    "# this `workflows.containers.containers.Image` object is *different* from the\n",
    "# `Image` objects we've been working with above; it's just a simple class\n",
    "# for holding results\n",
    "rgb_result"
   ]
  },
  {
   "cell_type": "code",
   "execution_count": 18,
   "metadata": {},
   "outputs": [
    {
     "data": {
      "text/plain": [
       "(numpy.ma.core.MaskedArray, (3, 500, 500))"
      ]
     },
     "execution_count": 18,
     "metadata": {},
     "output_type": "execute_result"
    }
   ],
   "source": [
    "type(rgb_result.bands), rgb_result.bands.shape"
   ]
  },
  {
   "cell_type": "code",
   "execution_count": 19,
   "metadata": {},
   "outputs": [
    {
     "data": {
      "text/plain": [
       "{u'acquired': u'2018-11-02T03:18:46.349000+00:00',\n",
       " u'bucket': u'storage-13ee3865fe538f2baf9c51f7316c57d25bece097-products',\n",
       " u'crs': u'+proj=sinu +lon_0=0 +x_0=0 +y_0=0 +a=6371007.181 +b=6371007.181 +units=m +no_defs ',\n",
       " u'date': u'2018-11-02T03:18:46.349000+00:00',\n",
       " u'descartes_version': u'dl-platform-ingest',\n",
       " u'directory': u'13ee3865fe538f2baf9c51f7316c57d25bece097:sinu-cat/',\n",
       " u'file_md5s': (u'28d86678cda34bc1b235009b4f3f8e09',),\n",
       " u'file_sizes': (1001598,),\n",
       " u'files': (u'28d86678cda34bc1b235009b4f3f8e09.tif',),\n",
       " u'geometry': {u'coordinates': (((-79.10810710223798, 62.952441458184595),\n",
       "    (19.777026775559495, 62.952441458184595),\n",
       "    (9.455287969178897, 17.986411845195597),\n",
       "    (-37.82115187671559, 17.986411845195597),\n",
       "    (-79.10810710223798, 62.952441458184595)),),\n",
       "  u'type': u'Polygon'},\n",
       " u'geotrans': (-4000000.0, 10000.0, 0.0, 7000000.0, 0.0, -10000.0),\n",
       " u'id': u'13ee3865fe538f2baf9c51f7316c57d25bece097:sinu-cat:sinu-cat',\n",
       " u'identifier': u'13ee3865fe538f2baf9c51f7316c57d25bece097:sinu-cat/sinu-cat.tif',\n",
       " u'key': u'sinu-cat',\n",
       " u'owner_type': u'user',\n",
       " u'owners': (u'user:13ee3865fe538f2baf9c51f7316c57d25bece097',\n",
       "  u'org:descarteslabs'),\n",
       " u'processed': u'2018-11-01T21:18:45.771610+00:00',\n",
       " u'product': u'13ee3865fe538f2baf9c51f7316c57d25bece097:sinu-cat',\n",
       " u'proj4': u'+proj=sinu +lon_0=0 +x_0=0 +y_0=0 +a=6371007.181 +b=6371007.181 +units=m +no_defs ',\n",
       " u'raster_size': (500, 500),\n",
       " u'read': (u'group:descartes:team',),\n",
       " u'storage_state': u'available',\n",
       " u'writers': ()}"
      ]
     },
     "execution_count": 19,
     "metadata": {},
     "output_type": "execute_result"
    }
   ],
   "source": [
    "rgb_result.properties"
   ]
  },
  {
   "cell_type": "code",
   "execution_count": 20,
   "metadata": {},
   "outputs": [
    {
     "data": {
      "image/png": "[encoded data removed]",
      "text/plain": [
       "<Figure size 288x288 with 1 Axes>"
      ]
     },
     "metadata": {
      "needs_background": "light"
     },
     "output_type": "display_data"
    }
   ],
   "source": [
    "# our first real(?) data back from Workflows!\n",
    "dl.scenes.display(rgb_result.bands, size=4)"
   ]
  },
  {
   "cell_type": "code",
   "execution_count": 21,
   "metadata": {},
   "outputs": [
    {
     "name": "stdout",
     "output_type": "stream",
     "text": [
      "[               ] | Steps: 0/0 | Stage: STAGE_DONE | Status: STATUS_SUCCESS"
     ]
    },
    {
     "data": {
      "text/plain": [
       "(-4000000.0, 10000.0, 0.0, 7000000.0, 0.0, -10000.0)"
      ]
     },
     "execution_count": 21,
     "metadata": {},
     "output_type": "execute_result"
    }
   ],
   "source": [
    "# note that you can call `.compute` on pretty much any proxy object, not just the Image.\n",
    "# If we pull out just the `geotrans` of the Image, our computation won't even touch any raster data.\n",
    "# (see how there were 0 steps to do)\n",
    "\n",
    "rgb.properties['geotrans'].compute(ctx)"
   ]
  },
  {
   "cell_type": "code",
   "execution_count": 22,
   "metadata": {},
   "outputs": [],
   "source": [
    "# let's calculate some band math\n",
    "\n",
    "red, blue = img.unpack_bands('red blue')\n",
    "# same as:\n",
    "# red = img.pick_bands('red')\n",
    "# blue = img.pick_bands('blue')\n",
    "# (but less typing)"
   ]
  },
  {
   "cell_type": "code",
   "execution_count": 23,
   "metadata": {},
   "outputs": [],
   "source": [
    "# Like NumPy arrays, Image objects support vectorized operators like +, -, etc.\n",
    "# The broadcasting rules are the similar:\n",
    "\n",
    "FAIL = img.pick_bands('red green') * img.pick_bands('red green blue')\n",
    "# the bands don't match between the two Images\n",
    "\n",
    "OK = img.pick_bands('green') * img.pick_bands('red green blue')\n",
    "# a 1-band Image is broadcast to all bands in the other Image.\n",
    "# this would multiply `red`, `green`, and `blue` by the `green` band and return a 3-band Image\n",
    "\n",
    "OK = img.pick_bands('green') * img.pick_bands('blue')\n",
    "# if *both* Images have 1 band, it's ok if their names don't match\n",
    "\n",
    "OK = img.pick_bands('red green blue') * img.pick_bands('blue red green')\n",
    "# bands are matched up by name, not positionally.\n",
    "# this would multiply red by red, blue by blue, and green by green\n",
    "# (even though they're in different orders)"
   ]
  },
  {
   "cell_type": "code",
   "execution_count": 24,
   "metadata": {},
   "outputs": [],
   "source": [
    "radness = (blue - red) / (blue + red)\n",
    "# calculate Normalized Difference Radness Index\n",
    "\n",
    "# IMPORTANT: values in Workflows images are always floats, in *physical rage* if defined, or the range 0-1."
   ]
  },
  {
   "cell_type": "code",
   "execution_count": 25,
   "metadata": {},
   "outputs": [
    {
     "data": {
      "text/html": [
       "<div style=\"width:100%;\"><div style=\"position:relative;width:100%;height:0;padding-bottom:60%;\"><iframe src=\"data:text/html;charset=utf-8;base64,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\" style=\"position:absolute;width:100%;height:100%;left:0;top:0;border:none !important;\" allowfullscreen webkitallowfullscreen mozallowfullscreen></iframe></div></div>"
      ],
      "text/plain": [
       "<descarteslabs.workflows.interactive.map_.Map at 0x1211d2c90>"
      ]
     },
     "execution_count": 25,
     "metadata": {},
     "output_type": "execute_result"
    }
   ],
   "source": [
    "# view an Image on a map with `Image.visualize`.\n",
    "# the image is computed on-the-fly by the backend as you zoom and pan around\n",
    "radness.visualize(name=\"NDRI\", location=[45, -20], zoom_start=4, scales=[[-1, 0.3]])\n",
    "\n",
    "# note that we didn't give a GeoContext here:\n",
    "# the GeoContext is defined by where you're looking on the map\n",
    "\n",
    "# if nothing shows up, log in at http://iam.descarteslabs.com and refresh the page"
   ]
  },
  {
   "cell_type": "code",
   "execution_count": 26,
   "metadata": {},
   "outputs": [
    {
     "name": "stdout",
     "output_type": "stream",
     "text": [
      "[###############] | Steps: 5/5 | Stage: STAGE_DONE | Status: STATUS_SUCCESS"
     ]
    }
   ],
   "source": [
    "# we can `.compute()` our derived Image too,\n",
    "# to get back data as a NumPy array\n",
    "radness_ = radness.compute(ctx)"
   ]
  },
  {
   "cell_type": "code",
   "execution_count": 27,
   "metadata": {},
   "outputs": [
    {
     "data": {
      "image/png": "[encoded data removed]",
      "text/plain": [
       "<Figure size 432x288 with 1 Axes>"
      ]
     },
     "metadata": {
      "needs_background": "light"
     },
     "output_type": "display_data"
    }
   ],
   "source": [
    "plt.hist(radness_.bands.compressed().flat, bins=50)  # .compressed() removes any masked-out values\n",
    "plt.title(\"NDRI histogram\")\n",
    "plt.xlabel(\"NDRI\")\n",
    "plt.show()"
   ]
  },
  {
   "cell_type": "code",
   "execution_count": 28,
   "metadata": {},
   "outputs": [],
   "source": [
    "# mask out parts of the RGB Image where `radness` is low\n",
    "only_radness = rgb.mask(radness < -0.5)"
   ]
  },
  {
   "cell_type": "markdown",
   "metadata": {},
   "source": [
    "## ImageCollection basics"
   ]
  },
  {
   "cell_type": "code",
   "execution_count": 29,
   "metadata": {},
   "outputs": [],
   "source": [
    "landsat_8 = wf.ImageCollection.from_id(\"landsat:LC08:01:T1:TOAR\")\n",
    "# an ImageCollection is like a cross between a 4D NumPy array and a list of Images.\n",
    "\n",
    "# this ImageCollection (theoretically) contains every Image in Landsat 8.\n",
    "# But when a GeoContex is supplied at computation time (either by a map, or passing one into .compute),\n",
    "# the metadata lookup and computation will just happen within that area of interest."
   ]
  },
  {
   "cell_type": "code",
   "execution_count": 30,
   "metadata": {},
   "outputs": [],
   "source": [
    "green, swir1 = landsat_8.unpack_bands('green swir1')\n",
    "# same interface as Image\n",
    "# but here, `green` and `swir1` are ImageCollections of the green/swir1 band from every image in Landsat 8"
   ]
  },
  {
   "cell_type": "code",
   "execution_count": 31,
   "metadata": {},
   "outputs": [],
   "source": [
    "ndsi = (green - swir1) / (green + swir1)\n",
    "# ImageCollections also support vectorized operators\n",
    "# This calculates NDSI over every image in Landsat 8"
   ]
  },
  {
   "cell_type": "code",
   "execution_count": 32,
   "metadata": {},
   "outputs": [],
   "source": [
    "winter = ndsi.filter(lambda img: (img.properties['date'].month >= 11) | (img.properties['date'].month <= 5))\n",
    "# .filter takes a function, runs it on every Image in the ImageCollection, and only keeps Images where the function returns True\n",
    "\n",
    "# you can write this function in normal Python syntax, with a couple caveats:\n",
    "#\n",
    "# - no conditionals or control flow (if statements, for loops)\n",
    "#\n",
    "# - python `and` and `or` statements don't work for comparing booleans;\n",
    "#   instead, use the bitwise `&` and `|` operators (like above).\n",
    "#   be sure to wrap your statements in parenthesis like above:\n",
    "#   the bitwise operators have higher precedence than `and` and `or`!\n",
    "#\n",
    "#   `(x > 1) & (y == 2)` : correct\n",
    "#   `x > 1 & y == 2`     : not what you expected; equivalent to `x > (1 & y) == 2`"
   ]
  },
  {
   "cell_type": "code",
   "execution_count": 33,
   "metadata": {},
   "outputs": [],
   "source": [
    "winter_mean = winter.mean()\n",
    "# .mean makes a mean composite of all Images, returing one Image.\n",
    "# other compositors include `min`, `max`, `sum`, `std`, `median`, and `count`"
   ]
  },
  {
   "cell_type": "code",
   "execution_count": 63,
   "metadata": {},
   "outputs": [
    {
     "data": {
      "text/html": [
       "<div style=\"width:100%;\"><div style=\"position:relative;width:100%;height:0;padding-bottom:60%;\"><iframe src=\"data:text/html;charset=utf-8;base64,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\" style=\"position:absolute;width:100%;height:100%;left:0;top:0;border:none !important;\" allowfullscreen webkitallowfullscreen mozallowfullscreen></iframe></div></div>"
      ],
      "text/plain": [
       "<descarteslabs.workflows.interactive.map_.Map at 0x121108650>"
      ]
     },
     "execution_count": 63,
     "metadata": {},
     "output_type": "execute_result"
    }
   ],
   "source": [
    "winter_mean.visualize(name=\"Winter mean NDSI\", location=[29, 83], zoom_start=9, scales=[[-0.5, 1]])\n",
    "# winter mean NDSI composite over all of landsat 8 T1\n",
    "# (this may take a while to load)"
   ]
  },
  {
   "cell_type": "code",
   "execution_count": 129,
   "metadata": {},
   "outputs": [],
   "source": [
    "s1 = wf.ImageCollection.from_id(\"sentinel-1:GRD\", start_datetime=\"2018-01-01\", end_datetime=\"2018-08-01\")\n",
    "# you can give `start_datetime` and `end_datetime` for coarse date bounding, which is efficient than `filter`.\n",
    "# of course, you can combine `start_datetime` and `filter` if you want"
   ]
  },
  {
   "cell_type": "code",
   "execution_count": 130,
   "metadata": {},
   "outputs": [],
   "source": [
    "s1_img = s1.pick_bands(\"vv vh\").median()\n",
    "# right now, we can only display Images on a map, not ImageCollections.\n",
    "# so we make a median composite of Sentinel-1 just for fun"
   ]
  },
  {
   "cell_type": "code",
   "execution_count": 141,
   "metadata": {},
   "outputs": [],
   "source": [
    "low_snow = s1_img.mask(winter_mean > 0.3)\n",
    "# you can mask one Image or ImageCollection with another Image or ImageCollection that contains boolean values.\n",
    "# like with NumPy, `True` means masked/invalid.\n",
    "\n",
    "# also notice that we're interoperating between two different sensor products here:\n",
    "# masking a sentinel-1 SAR composite with snow cover computed from landsat-8! neat!"
   ]
  },
  {
   "cell_type": "code",
   "execution_count": 142,
   "metadata": {},
   "outputs": [],
   "source": [
    "vv_vh_vv = low_snow.concat(low_snow.pick_bands('vv_median'))"
   ]
  },
  {
   "cell_type": "code",
   "execution_count": 143,
   "metadata": {},
   "outputs": [
    {
     "data": {
      "text/html": [
       "<div style=\"width:100%;\"><div style=\"position:relative;width:100%;height:0;padding-bottom:60%;\"><iframe src=\"data:text/html;charset=utf-8;base64,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\" style=\"position:absolute;width:100%;height:100%;left:0;top:0;border:none !important;\" allowfullscreen webkitallowfullscreen mozallowfullscreen></iframe></div></div>"
      ],
      "text/plain": [
       "<descarteslabs.workflows.interactive.map_.Map at 0x121b5b7d0>"
      ]
     },
     "execution_count": 143,
     "metadata": {},
     "output_type": "execute_result"
    }
   ],
   "source": [
    "vv_vh_vv.visualize(name=\"low_snow\", location=[29, 83], zoom_start=9, scales=[[0, 0.6], [0, 0.6], [0, 0.6]])"
   ]
  },
  {
   "cell_type": "code",
   "execution_count": 140,
   "metadata": {},
   "outputs": [],
   "source": [
    "# try adjusing the masking threshold a few cells above and re-running the map.\n",
    "\n",
    "# data should load quite a bit faster the second time around,\n",
    "# because all the intermediate results are cached automatically.\n",
    "# (namely, computing NDSI and making composites of Landsat 8 and Sentinel-1) "
   ]
  },
  {
   "cell_type": "markdown",
   "metadata": {},
   "source": [
    "## It's not just about the pixels"
   ]
  },
  {
   "cell_type": "code",
   "execution_count": 39,
   "metadata": {},
   "outputs": [],
   "source": [
    "nir, red = landsat_8.unpack_bands('nir red')"
   ]
  },
  {
   "cell_type": "code",
   "execution_count": 40,
   "metadata": {},
   "outputs": [],
   "source": [
    "ndvi = (nir - red) / (nir + red)"
   ]
  },
  {
   "cell_type": "code",
   "execution_count": 41,
   "metadata": {},
   "outputs": [],
   "source": [
    "ndsi = ndsi.rename_bands('ndsi')\n",
    "ndvi = ndvi.rename_bands('ndvi')\n",
    "# the band name for NDVI was originally `nir_sub_red_div_nir_add_red`---continuing\n",
    "# to call it `red` or `nir` would be inaccurate, so Workflows automatically\n",
    "# changes the name---but we rename it to something more meaningful.\n",
    "\n",
    "# `rename_bands` can take new names positionally (what we did here), or by keyword arguments\n",
    "# (we could have done `renane_bands(nir_sub_red_div_nir_add_red=\"ndvi\")`, but that's awkward to write)"
   ]
  },
  {
   "cell_type": "code",
   "execution_count": 42,
   "metadata": {},
   "outputs": [],
   "source": [
    "ndvi_ndsi_col = ndvi.concat_bands(ndsi)\n",
    "# `concat_bands` appends the bands from another Image or ImageCollection.\n",
    "\n",
    "#  note that this returns a *new* ImageCollection; it doesn't modify the original.\n",
    "#  in general, all values in Workflows are immutable, and operations return copies.\n",
    "#  (this isn't as inefficient as it sounds, because the underlying raster data isn't always copied.)"
   ]
  },
  {
   "cell_type": "code",
   "execution_count": 49,
   "metadata": {},
   "outputs": [],
   "source": [
    "# define a function we'll map over every Image in the ImageCollection\n",
    "\n",
    "def index_stats(img):\n",
    "    date = img.properties['date']\n",
    "    stats = img.meanpixels()\n",
    "    # stats is a Dict[Str, Float], where keys are band names and values are the statistic (mean pixel value for that band).\n",
    "    # that's why we renamed the bands, so the keys are nicer :)\n",
    "    \n",
    "    # note: `meanpixels` (and other such reducers) modify band names, so the `ndvi` band becomes `ndvi_mean`\n",
    "    return (date, stats['ndvi_mean'], stats['ndsi_mean'])"
   ]
  },
  {
   "cell_type": "code",
   "execution_count": 50,
   "metadata": {},
   "outputs": [],
   "source": [
    "l8_stats = ndvi_ndsi_col.map(index_stats)\n",
    "# ImageCollection.map applies the function to every Image.\n",
    "\n",
    "# if the mapper function returned an Image, we'd still get an ImageCollection back.\n",
    "# however, our `index_stats` function just returns a tuple of a date and some numbers,\n",
    "# so we get back a`workflows.List` proxy object."
   ]
  },
  {
   "cell_type": "code",
   "execution_count": 51,
   "metadata": {},
   "outputs": [
    {
     "data": {
      "text/plain": [
       "descarteslabs.workflows.types.containers.list_.List[Tuple[Datetime, Float, Float]]"
      ]
     },
     "execution_count": 51,
     "metadata": {},
     "output_type": "execute_result"
    }
   ],
   "source": [
    "type(l8_stats)"
   ]
  },
  {
   "cell_type": "code",
   "execution_count": 52,
   "metadata": {},
   "outputs": [],
   "source": [
    "# Notice that this is a `List[Tuple[Datetime, Float, Float]]`.\n",
    "# That's not something you'd normally see in Python.\n",
    "\n",
    "# The Workflows client is more strongly-typed than normal Python, and maintains its own type system.\n",
    "# For example, values in `List`s all have to be the same type (in this case `Tuple[Datetime, Float, Float]`),\n",
    "# and all the keys in a `Dict` are one type, and values are another type (as we saw above, with `Dict[Str, Float]`).\n",
    "\n",
    "# This strictness helps prevent silly errors, and also lets it infer what type your results will be before you even execute them."
   ]
  },
  {
   "cell_type": "code",
   "execution_count": 53,
   "metadata": {},
   "outputs": [],
   "source": [
    "himalaya_tile = dl.scenes.DLTile.from_latlon(35, 76, 60, 512, 0)"
   ]
  },
  {
   "cell_type": "code",
   "execution_count": 55,
   "metadata": {},
   "outputs": [
    {
     "name": "stdout",
     "output_type": "stream",
     "text": [
      "[###############] | Steps: 1952/1952 | Stage: STAGE_DONE | Status: STATUS_SUCCESS"
     ]
    }
   ],
   "source": [
    "l8_stats_ = l8_stats.compute(himalaya_tile)"
   ]
  },
  {
   "cell_type": "code",
   "execution_count": 56,
   "metadata": {},
   "outputs": [
    {
     "data": {
      "text/plain": [
       "[(u'2016-01-12T05:29:41.742998+00:00',\n",
       "  0.018266330507218417,\n",
       "  0.5031715320676207),\n",
       " (u'2016-01-28T05:29:41.336400+00:00', 0.0140398823888516, 0.5351976492943566),\n",
       " (u'2016-02-13T05:29:34.609452+00:00',\n",
       "  0.025325696248472977,\n",
       "  0.43473396881425297),\n",
       " (u'2016-02-29T05:29:30.846120+00:00',\n",
       "  0.015405631261259213,\n",
       "  0.4693200603094098),\n",
       " (u'2016-03-16T05:29:26.559706+00:00',\n",
       "  0.03459658795977355,\n",
       "  0.3951994492390837)]"
      ]
     },
     "execution_count": 56,
     "metadata": {},
     "output_type": "execute_result"
    }
   ],
   "source": [
    "l8_stats_[:5]\n",
    "# look, we actually did get back a list of tuples of a date and two floats"
   ]
  },
  {
   "cell_type": "code",
   "execution_count": 57,
   "metadata": {},
   "outputs": [],
   "source": [
    "import pandas as pd"
   ]
  },
  {
   "cell_type": "code",
   "execution_count": 58,
   "metadata": {},
   "outputs": [
    {
     "data": {
      "text/html": [
       "<div>\n",
       "<style scoped>\n",
       "    .dataframe tbody tr th:only-of-type {\n",
       "        vertical-align: middle;\n",
       "    }\n",
       "\n",
       "    .dataframe tbody tr th {\n",
       "        vertical-align: top;\n",
       "    }\n",
       "\n",
       "    .dataframe thead th {\n",
       "        text-align: right;\n",
       "    }\n",
       "</style>\n",
       "<table border=\"1\" class=\"dataframe\">\n",
       "  <thead>\n",
       "    <tr style=\"text-align: right;\">\n",
       "      <th></th>\n",
       "      <th>ndvi</th>\n",
       "      <th>ndsi</th>\n",
       "    </tr>\n",
       "    <tr>\n",
       "      <th>date</th>\n",
       "      <th></th>\n",
       "      <th></th>\n",
       "    </tr>\n",
       "  </thead>\n",
       "  <tbody>\n",
       "    <tr>\n",
       "      <th>2016-01-12 05:29:41.742998+00:00</th>\n",
       "      <td>0.018266</td>\n",
       "      <td>0.503172</td>\n",
       "    </tr>\n",
       "    <tr>\n",
       "      <th>2016-01-28 05:29:41.336400+00:00</th>\n",
       "      <td>0.014040</td>\n",
       "      <td>0.535198</td>\n",
       "    </tr>\n",
       "    <tr>\n",
       "      <th>2016-02-13 05:29:34.609452+00:00</th>\n",
       "      <td>0.025326</td>\n",
       "      <td>0.434734</td>\n",
       "    </tr>\n",
       "    <tr>\n",
       "      <th>2016-02-29 05:29:30.846120+00:00</th>\n",
       "      <td>0.015406</td>\n",
       "      <td>0.469320</td>\n",
       "    </tr>\n",
       "    <tr>\n",
       "      <th>2016-03-16 05:29:26.559706+00:00</th>\n",
       "      <td>0.034597</td>\n",
       "      <td>0.395199</td>\n",
       "    </tr>\n",
       "    <tr>\n",
       "      <th>2016-04-01 05:29:16.239779+00:00</th>\n",
       "      <td>0.008707</td>\n",
       "      <td>0.471589</td>\n",
       "    </tr>\n",
       "    <tr>\n",
       "      <th>2016-04-17 05:29:11.485655+00:00</th>\n",
       "      <td>0.021150</td>\n",
       "      <td>0.385194</td>\n",
       "    </tr>\n",
       "    <tr>\n",
       "      <th>2016-12-13 05:29:54.143919+00:00</th>\n",
       "      <td>0.023724</td>\n",
       "      <td>0.329141</td>\n",
       "    </tr>\n",
       "    <tr>\n",
       "      <th>2016-12-29 05:29:51.108161+00:00</th>\n",
       "      <td>0.033990</td>\n",
       "      <td>0.284324</td>\n",
       "    </tr>\n",
       "    <tr>\n",
       "      <th>2017-01-14 05:29:47.028497+00:00</th>\n",
       "      <td>0.028184</td>\n",
       "      <td>0.468013</td>\n",
       "    </tr>\n",
       "    <tr>\n",
       "      <th>2017-01-30 05:29:40.722159+00:00</th>\n",
       "      <td>0.008478</td>\n",
       "      <td>0.560262</td>\n",
       "    </tr>\n",
       "    <tr>\n",
       "      <th>2017-02-15 05:29:33.485781+00:00</th>\n",
       "      <td>-0.004740</td>\n",
       "      <td>0.591433</td>\n",
       "    </tr>\n",
       "    <tr>\n",
       "      <th>2017-03-03 05:29:27.526278+00:00</th>\n",
       "      <td>-0.009372</td>\n",
       "      <td>0.672713</td>\n",
       "    </tr>\n",
       "    <tr>\n",
       "      <th>2017-03-19 05:29:17.895021+00:00</th>\n",
       "      <td>-0.010483</td>\n",
       "      <td>0.601671</td>\n",
       "    </tr>\n",
       "    <tr>\n",
       "      <th>2017-04-04 05:29:10.395630+00:00</th>\n",
       "      <td>0.015525</td>\n",
       "      <td>0.531534</td>\n",
       "    </tr>\n",
       "    <tr>\n",
       "      <th>2017-04-20 05:29:01.385843+00:00</th>\n",
       "      <td>0.006864</td>\n",
       "      <td>0.292887</td>\n",
       "    </tr>\n",
       "    <tr>\n",
       "      <th>2017-05-06 05:28:56.120232+00:00</th>\n",
       "      <td>0.014678</td>\n",
       "      <td>0.399117</td>\n",
       "    </tr>\n",
       "    <tr>\n",
       "      <th>2017-05-22 05:29:07.748867+00:00</th>\n",
       "      <td>0.041960</td>\n",
       "      <td>0.186737</td>\n",
       "    </tr>\n",
       "    <tr>\n",
       "      <th>2017-06-07 05:29:16.271629+00:00</th>\n",
       "      <td>0.058180</td>\n",
       "      <td>0.220656</td>\n",
       "    </tr>\n",
       "    <tr>\n",
       "      <th>2017-06-23 05:29:21.986865+00:00</th>\n",
       "      <td>0.144116</td>\n",
       "      <td>-0.069598</td>\n",
       "    </tr>\n",
       "    <tr>\n",
       "      <th>2017-07-09 05:29:25.161757+00:00</th>\n",
       "      <td>0.163844</td>\n",
       "      <td>-0.139961</td>\n",
       "    </tr>\n",
       "    <tr>\n",
       "      <th>2017-07-25 05:29:31.855690+00:00</th>\n",
       "      <td>0.077130</td>\n",
       "      <td>0.022993</td>\n",
       "    </tr>\n",
       "    <tr>\n",
       "      <th>2017-08-10 05:29:38.444577+00:00</th>\n",
       "      <td>0.046248</td>\n",
       "      <td>0.067832</td>\n",
       "    </tr>\n",
       "    <tr>\n",
       "      <th>2017-08-26 05:29:42.612723+00:00</th>\n",
       "      <td>0.061952</td>\n",
       "      <td>0.276783</td>\n",
       "    </tr>\n",
       "    <tr>\n",
       "      <th>2017-09-27 05:29:49.729105+00:00</th>\n",
       "      <td>0.075919</td>\n",
       "      <td>0.020694</td>\n",
       "    </tr>\n",
       "    <tr>\n",
       "      <th>2017-10-13 05:29:54.352174+00:00</th>\n",
       "      <td>0.078007</td>\n",
       "      <td>-0.039956</td>\n",
       "    </tr>\n",
       "    <tr>\n",
       "      <th>2017-10-29 05:29:55.272709+00:00</th>\n",
       "      <td>0.107323</td>\n",
       "      <td>-0.187463</td>\n",
       "    </tr>\n",
       "    <tr>\n",
       "      <th>2017-11-14 05:29:52.317989+00:00</th>\n",
       "      <td>0.038344</td>\n",
       "      <td>0.330199</td>\n",
       "    </tr>\n",
       "    <tr>\n",
       "      <th>2017-11-30 05:29:45.834358+00:00</th>\n",
       "      <td>0.051313</td>\n",
       "      <td>0.237944</td>\n",
       "    </tr>\n",
       "    <tr>\n",
       "      <th>2017-12-16 05:29:47.889138+00:00</th>\n",
       "      <td>0.018827</td>\n",
       "      <td>0.515020</td>\n",
       "    </tr>\n",
       "    <tr>\n",
       "      <th>...</th>\n",
       "      <td>...</td>\n",
       "      <td>...</td>\n",
       "    </tr>\n",
       "    <tr>\n",
       "      <th>2017-12-07 05:35:56.754621+00:00</th>\n",
       "      <td>0.044278</td>\n",
       "      <td>0.246594</td>\n",
       "    </tr>\n",
       "    <tr>\n",
       "      <th>2017-12-23 05:35:59.732448+00:00</th>\n",
       "      <td>0.016598</td>\n",
       "      <td>0.548318</td>\n",
       "    </tr>\n",
       "    <tr>\n",
       "      <th>2018-01-08 05:35:54.410653+00:00</th>\n",
       "      <td>-0.008292</td>\n",
       "      <td>0.649373</td>\n",
       "    </tr>\n",
       "    <tr>\n",
       "      <th>2018-01-24 05:35:46.032698+00:00</th>\n",
       "      <td>-0.003431</td>\n",
       "      <td>0.573440</td>\n",
       "    </tr>\n",
       "    <tr>\n",
       "      <th>2018-02-09 05:35:38.430511+00:00</th>\n",
       "      <td>0.023235</td>\n",
       "      <td>0.459634</td>\n",
       "    </tr>\n",
       "    <tr>\n",
       "      <th>2018-02-25 05:35:32.173324+00:00</th>\n",
       "      <td>0.022494</td>\n",
       "      <td>0.451855</td>\n",
       "    </tr>\n",
       "    <tr>\n",
       "      <th>2018-03-13 05:35:23.153702+00:00</th>\n",
       "      <td>0.008511</td>\n",
       "      <td>0.482320</td>\n",
       "    </tr>\n",
       "    <tr>\n",
       "      <th>2018-03-29 05:35:16.290287+00:00</th>\n",
       "      <td>0.025377</td>\n",
       "      <td>0.382223</td>\n",
       "    </tr>\n",
       "    <tr>\n",
       "      <th>2018-04-14 05:35:07.555558+00:00</th>\n",
       "      <td>0.056213</td>\n",
       "      <td>0.221398</td>\n",
       "    </tr>\n",
       "    <tr>\n",
       "      <th>2018-04-30 05:34:58.579859+00:00</th>\n",
       "      <td>0.057834</td>\n",
       "      <td>0.170992</td>\n",
       "    </tr>\n",
       "    <tr>\n",
       "      <th>2018-05-16 05:34:48.189088+00:00</th>\n",
       "      <td>0.033340</td>\n",
       "      <td>0.303735</td>\n",
       "    </tr>\n",
       "    <tr>\n",
       "      <th>2018-06-01 05:34:35.282084+00:00</th>\n",
       "      <td>0.048481</td>\n",
       "      <td>0.129123</td>\n",
       "    </tr>\n",
       "    <tr>\n",
       "      <th>2018-06-17 05:34:42.789734+00:00</th>\n",
       "      <td>0.070357</td>\n",
       "      <td>0.126459</td>\n",
       "    </tr>\n",
       "    <tr>\n",
       "      <th>2018-07-19 05:34:59.656443+00:00</th>\n",
       "      <td>0.094740</td>\n",
       "      <td>-0.024315</td>\n",
       "    </tr>\n",
       "    <tr>\n",
       "      <th>2018-08-04 05:35:07.701588+00:00</th>\n",
       "      <td>0.178385</td>\n",
       "      <td>-0.242177</td>\n",
       "    </tr>\n",
       "    <tr>\n",
       "      <th>2018-08-20 05:35:16.310047+00:00</th>\n",
       "      <td>0.150788</td>\n",
       "      <td>-0.189291</td>\n",
       "    </tr>\n",
       "    <tr>\n",
       "      <th>2018-09-05 05:35:22.573486+00:00</th>\n",
       "      <td>0.086063</td>\n",
       "      <td>-0.057279</td>\n",
       "    </tr>\n",
       "    <tr>\n",
       "      <th>2018-09-21 05:35:26.727349+00:00</th>\n",
       "      <td>0.133764</td>\n",
       "      <td>-0.206187</td>\n",
       "    </tr>\n",
       "    <tr>\n",
       "      <th>2018-10-07 05:35:35.101372+00:00</th>\n",
       "      <td>0.076120</td>\n",
       "      <td>0.027234</td>\n",
       "    </tr>\n",
       "    <tr>\n",
       "      <th>2018-10-23 05:35:40.841080+00:00</th>\n",
       "      <td>0.067202</td>\n",
       "      <td>0.117599</td>\n",
       "    </tr>\n",
       "    <tr>\n",
       "      <th>2018-11-08 05:35:43.828753+00:00</th>\n",
       "      <td>0.017465</td>\n",
       "      <td>0.372497</td>\n",
       "    </tr>\n",
       "    <tr>\n",
       "      <th>2018-11-24 05:35:43.855266+00:00</th>\n",
       "      <td>0.006287</td>\n",
       "      <td>0.473201</td>\n",
       "    </tr>\n",
       "    <tr>\n",
       "      <th>2019-01-11 05:35:39.019596+00:00</th>\n",
       "      <td>0.017903</td>\n",
       "      <td>0.589847</td>\n",
       "    </tr>\n",
       "    <tr>\n",
       "      <th>2019-01-27 05:35:35.079044+00:00</th>\n",
       "      <td>-0.003381</td>\n",
       "      <td>0.725678</td>\n",
       "    </tr>\n",
       "    <tr>\n",
       "      <th>2019-02-12 05:35:32.983050+00:00</th>\n",
       "      <td>0.009274</td>\n",
       "      <td>0.569503</td>\n",
       "    </tr>\n",
       "    <tr>\n",
       "      <th>2019-02-28 05:35:29.253826+00:00</th>\n",
       "      <td>-0.004001</td>\n",
       "      <td>0.731867</td>\n",
       "    </tr>\n",
       "    <tr>\n",
       "      <th>2019-03-16 05:35:23.559531+00:00</th>\n",
       "      <td>-0.017504</td>\n",
       "      <td>0.646225</td>\n",
       "    </tr>\n",
       "    <tr>\n",
       "      <th>2019-04-01 05:35:20.527681+00:00</th>\n",
       "      <td>0.001646</td>\n",
       "      <td>0.526911</td>\n",
       "    </tr>\n",
       "    <tr>\n",
       "      <th>2019-05-03 05:35:14.188470+00:00</th>\n",
       "      <td>0.022808</td>\n",
       "      <td>0.397770</td>\n",
       "    </tr>\n",
       "    <tr>\n",
       "      <th>2019-05-19 05:35:24.708683+00:00</th>\n",
       "      <td>0.057409</td>\n",
       "      <td>0.162153</td>\n",
       "    </tr>\n",
       "  </tbody>\n",
       "</table>\n",
       "<p>179 rows × 2 columns</p>\n",
       "</div>"
      ],
      "text/plain": [
       "                                      ndvi      ndsi\n",
       "date                                                \n",
       "2016-01-12 05:29:41.742998+00:00  0.018266  0.503172\n",
       "2016-01-28 05:29:41.336400+00:00  0.014040  0.535198\n",
       "2016-02-13 05:29:34.609452+00:00  0.025326  0.434734\n",
       "2016-02-29 05:29:30.846120+00:00  0.015406  0.469320\n",
       "2016-03-16 05:29:26.559706+00:00  0.034597  0.395199\n",
       "2016-04-01 05:29:16.239779+00:00  0.008707  0.471589\n",
       "2016-04-17 05:29:11.485655+00:00  0.021150  0.385194\n",
       "2016-12-13 05:29:54.143919+00:00  0.023724  0.329141\n",
       "2016-12-29 05:29:51.108161+00:00  0.033990  0.284324\n",
       "2017-01-14 05:29:47.028497+00:00  0.028184  0.468013\n",
       "2017-01-30 05:29:40.722159+00:00  0.008478  0.560262\n",
       "2017-02-15 05:29:33.485781+00:00 -0.004740  0.591433\n",
       "2017-03-03 05:29:27.526278+00:00 -0.009372  0.672713\n",
       "2017-03-19 05:29:17.895021+00:00 -0.010483  0.601671\n",
       "2017-04-04 05:29:10.395630+00:00  0.015525  0.531534\n",
       "2017-04-20 05:29:01.385843+00:00  0.006864  0.292887\n",
       "2017-05-06 05:28:56.120232+00:00  0.014678  0.399117\n",
       "2017-05-22 05:29:07.748867+00:00  0.041960  0.186737\n",
       "2017-06-07 05:29:16.271629+00:00  0.058180  0.220656\n",
       "2017-06-23 05:29:21.986865+00:00  0.144116 -0.069598\n",
       "2017-07-09 05:29:25.161757+00:00  0.163844 -0.139961\n",
       "2017-07-25 05:29:31.855690+00:00  0.077130  0.022993\n",
       "2017-08-10 05:29:38.444577+00:00  0.046248  0.067832\n",
       "2017-08-26 05:29:42.612723+00:00  0.061952  0.276783\n",
       "2017-09-27 05:29:49.729105+00:00  0.075919  0.020694\n",
       "2017-10-13 05:29:54.352174+00:00  0.078007 -0.039956\n",
       "2017-10-29 05:29:55.272709+00:00  0.107323 -0.187463\n",
       "2017-11-14 05:29:52.317989+00:00  0.038344  0.330199\n",
       "2017-11-30 05:29:45.834358+00:00  0.051313  0.237944\n",
       "2017-12-16 05:29:47.889138+00:00  0.018827  0.515020\n",
       "...                                    ...       ...\n",
       "2017-12-07 05:35:56.754621+00:00  0.044278  0.246594\n",
       "2017-12-23 05:35:59.732448+00:00  0.016598  0.548318\n",
       "2018-01-08 05:35:54.410653+00:00 -0.008292  0.649373\n",
       "2018-01-24 05:35:46.032698+00:00 -0.003431  0.573440\n",
       "2018-02-09 05:35:38.430511+00:00  0.023235  0.459634\n",
       "2018-02-25 05:35:32.173324+00:00  0.022494  0.451855\n",
       "2018-03-13 05:35:23.153702+00:00  0.008511  0.482320\n",
       "2018-03-29 05:35:16.290287+00:00  0.025377  0.382223\n",
       "2018-04-14 05:35:07.555558+00:00  0.056213  0.221398\n",
       "2018-04-30 05:34:58.579859+00:00  0.057834  0.170992\n",
       "2018-05-16 05:34:48.189088+00:00  0.033340  0.303735\n",
       "2018-06-01 05:34:35.282084+00:00  0.048481  0.129123\n",
       "2018-06-17 05:34:42.789734+00:00  0.070357  0.126459\n",
       "2018-07-19 05:34:59.656443+00:00  0.094740 -0.024315\n",
       "2018-08-04 05:35:07.701588+00:00  0.178385 -0.242177\n",
       "2018-08-20 05:35:16.310047+00:00  0.150788 -0.189291\n",
       "2018-09-05 05:35:22.573486+00:00  0.086063 -0.057279\n",
       "2018-09-21 05:35:26.727349+00:00  0.133764 -0.206187\n",
       "2018-10-07 05:35:35.101372+00:00  0.076120  0.027234\n",
       "2018-10-23 05:35:40.841080+00:00  0.067202  0.117599\n",
       "2018-11-08 05:35:43.828753+00:00  0.017465  0.372497\n",
       "2018-11-24 05:35:43.855266+00:00  0.006287  0.473201\n",
       "2019-01-11 05:35:39.019596+00:00  0.017903  0.589847\n",
       "2019-01-27 05:35:35.079044+00:00 -0.003381  0.725678\n",
       "2019-02-12 05:35:32.983050+00:00  0.009274  0.569503\n",
       "2019-02-28 05:35:29.253826+00:00 -0.004001  0.731867\n",
       "2019-03-16 05:35:23.559531+00:00 -0.017504  0.646225\n",
       "2019-04-01 05:35:20.527681+00:00  0.001646  0.526911\n",
       "2019-05-03 05:35:14.188470+00:00  0.022808  0.397770\n",
       "2019-05-19 05:35:24.708683+00:00  0.057409  0.162153\n",
       "\n",
       "[179 rows x 2 columns]"
      ]
     },
     "execution_count": 58,
     "metadata": {},
     "output_type": "execute_result"
    }
   ],
   "source": [
    "# stick it into pandas for further analysis.\n",
    "# notice we didn't have to bring any raster data back to our client.\n",
    "\n",
    "df = pd.DataFrame.from_records(l8_stats_, index='date', columns=['date', 'ndvi', 'ndsi'])\n",
    "df.index = pd.to_datetime(df.index)\n",
    "df"
   ]
  },
  {
   "cell_type": "code",
   "execution_count": 59,
   "metadata": {},
   "outputs": [
    {
     "name": "stderr",
     "output_type": "stream",
     "text": [
      "/Users/gabejoseph/.local/share/virtualenvs/workflows-examples-ZimnatIE/lib/python2.7/site-packages/pandas/core/arrays/datetimes.py:1172: UserWarning: Converting to PeriodArray/Index representation will drop timezone information.\n",
      "  \"will drop timezone information.\", UserWarning)\n"
     ]
    },
    {
     "data": {
      "text/plain": [
       "<matplotlib.axes._subplots.AxesSubplot at 0x1150ec490>"
      ]
     },
     "execution_count": 59,
     "metadata": {},
     "output_type": "execute_result"
    },
    {
     "data": {
      "image/png": "[encoded data removed]",
      "text/plain": [
       "<Figure size 432x288 with 1 Axes>"
      ]
     },
     "metadata": {
      "needs_background": "light"
     },
     "output_type": "display_data"
    }
   ],
   "source": [
    "(\n",
    "    df\n",
    "    .resample(\"1m\")\n",
    "    .mean()\n",
    "    .plot(title=\"Monthly mean NDVI and NDSI in the Himalaya\")\n",
    ")"
   ]
  },
  {
   "cell_type": "code",
   "execution_count": null,
   "metadata": {},
   "outputs": [],
   "source": []
  }
 ],
 "metadata": {
  "kernelspec": {
   "display_name": "Python 2",
   "language": "python",
   "name": "python2"
  },
  "language_info": {
   "codemirror_mode": {
    "name": "ipython",
    "version": 2
   },
   "file_extension": ".py",
   "mimetype": "text/x-python",
   "name": "python",
   "nbconvert_exporter": "python",
   "pygments_lexer": "ipython2",
   "version": "2.7.16"
  }
 },
 "nbformat": 4,
 "nbformat_minor": 2
}
